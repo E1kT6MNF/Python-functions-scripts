{
 "cells": [
  {
   "cell_type": "markdown",
   "metadata": {},
   "source": [
    "## Play with Butterworth filters in Python\n",
    "\n",
    "### Import needed libraries"
   ]
  },
  {
   "cell_type": "code",
   "execution_count": 1,
   "metadata": {
    "collapsed": true
   },
   "outputs": [],
   "source": [
    "import pandas as pd\n",
    "import numpy as np\n",
    "import matplotlib.pyplot as plt\n",
    "import scipy.signal as signal"
   ]
  },
  {
   "cell_type": "markdown",
   "metadata": {},
   "source": [
    "Read raw data file fo test 00ABMOTP0000PR00.010 from build sheet 5YA806-02. Read in Edapt SAE60 data from same test."
   ]
  },
  {
   "cell_type": "code",
   "execution_count": 2,
   "metadata": {
    "collapsed": true
   },
   "outputs": [],
   "source": [
    "filename = \"dat10.csv\"\n",
    "dat = pd.read_csv(filename)\n",
    "edapt = pd.read_csv(\"edapt.csv\")\n",
    "y_e = np.array(edapt['kPa'])"
   ]
  },
  {
   "cell_type": "markdown",
   "metadata": {},
   "source": [
    "Calculate filter parameters and apply filters. y2 = odd pad, y3 = even pad."
   ]
  },
  {
   "cell_type": "code",
   "execution_count": 3,
   "metadata": {
    "collapsed": true
   },
   "outputs": [],
   "source": [
    "samplerate = 1000/np.mean(np.diff(dat['time']))\n",
    "time = np.array(dat['time'])\n",
    "y = np.array(dat['kPa'])\n",
    "CFC = 60\n",
    "freq = CFC*5/3\n",
    "Wn=100/samplerate*2\n",
    "b, a = signal.butter(2,Wn,'low')\n",
    "y2 = signal.filtfilt(b, a, y,padtype = 'odd')\n",
    "y3 = signal.filtfilt(b, a, y,padtype = 'even')"
   ]
  },
  {
   "cell_type": "markdown",
   "metadata": {},
   "source": [
    "Make overlay plot of filter options"
   ]
  },
  {
   "cell_type": "code",
   "execution_count": 4,
   "metadata": {
    "collapsed": false
   },
   "outputs": [
    {
     "name": "stdout",
     "output_type": "stream",
     "text": [
      "Using matplotlib backend: Qt4Agg\n"
     ]
    }
   ],
   "source": [
    "%matplotlib"
   ]
  },
  {
   "cell_type": "code",
   "execution_count": 5,
   "metadata": {
    "collapsed": false
   },
   "outputs": [
    {
     "data": {
      "text/plain": [
       "<matplotlib.text.Text at 0x143be192eb8>"
      ]
     },
     "execution_count": 5,
     "metadata": {},
     "output_type": "execute_result"
    }
   ],
   "source": [
    "plt.hold(True)\n",
    "plt.plot(time,y, '-y',label = 'Raw')\n",
    "plt.plot(time,y2, '-r',label = 'odd')\n",
    "plt.plot(time,y3,'-g',label ='even')\n",
    "y_e = np.array(edapt['kPa'])\n",
    "plt.plot(time,y_e,'-b',label = 'SAE60 Edapt')\n",
    "plt.legend()\n",
    "plt.xlabel('msec')\n",
    "plt.ylabel('kPa')\n",
    "plt.title('Scipy filtfilt padtype comparison')"
   ]
  },
  {
   "cell_type": "code",
   "execution_count": null,
   "metadata": {
    "collapsed": true
   },
   "outputs": [],
   "source": []
  },
  {
   "cell_type": "code",
   "execution_count": null,
   "metadata": {
    "collapsed": true
   },
   "outputs": [],
   "source": []
  }
 ],
 "metadata": {
  "kernelspec": {
   "display_name": "Python 3",
   "language": "python",
   "name": "python3"
  },
  "language_info": {
   "codemirror_mode": {
    "name": "ipython",
    "version": 3
   },
   "file_extension": ".py",
   "mimetype": "text/x-python",
   "name": "python",
   "nbconvert_exporter": "python",
   "pygments_lexer": "ipython3",
   "version": "3.5.1"
  }
 },
 "nbformat": 4,
 "nbformat_minor": 0
}
